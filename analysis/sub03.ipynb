{
 "cells": [
  {
   "cell_type": "markdown",
   "metadata": {},
   "source": [
    "String lenghtをtfidfでやってみる"
   ]
  },
  {
   "cell_type": "code",
   "execution_count": 1,
   "metadata": {},
   "outputs": [],
   "source": [
    "import os\n",
    "import matplotlib.pyplot as plt\n",
    "import seaborn as sns\n",
    "import pandas as pd\n",
    "import numpy as np\n",
    "\n",
    "from matplotlib_venn import venn2"
   ]
  },
  {
   "cell_type": "code",
   "execution_count": 2,
   "metadata": {},
   "outputs": [],
   "source": [
    "DATA = '~/art_compe/data/'\n",
    "OUT_PUT = 'out_put/3/'\n",
    "os.makedirs(OUT_PUT, exist_ok=True)"
   ]
  },
  {
   "cell_type": "code",
   "execution_count": 3,
   "metadata": {},
   "outputs": [],
   "source": [
    "# https://github.com/nyk510/vivid/blob/master/vivid/utils.py\n",
    "from time import time\n",
    "\n",
    "def decorate(s: str, decoration=None):\n",
    "    if decoration is None:\n",
    "        decoration = '★' * 20\n",
    "\n",
    "    return ' '.join([decoration, str(s), decoration])\n",
    "\n",
    "class Timer:\n",
    "    def __init__(self, logger=None, format_str='{:.3f}[s]', prefix=None, suffix=None, sep=' ', verbose=0):\n",
    "\n",
    "        if prefix: format_str = str(prefix) + sep + format_str\n",
    "        if suffix: format_str = format_str + sep + str(suffix)\n",
    "        self.format_str = format_str\n",
    "        self.logger = logger\n",
    "        self.start = None\n",
    "        self.end = None\n",
    "        self.verbose = verbose\n",
    "\n",
    "    @property\n",
    "    def duration(self):\n",
    "        if self.end is None:\n",
    "            return 0\n",
    "        return self.end - self.start\n",
    "\n",
    "    def __enter__(self):\n",
    "        self.start = time()\n",
    "\n",
    "    def __exit__(self, exc_type, exc_val, exc_tb):\n",
    "        self.end = time()\n",
    "        if self.verbose is None:\n",
    "            return\n",
    "        out_str = self.format_str.format(self.duration)\n",
    "        if self.logger:\n",
    "            self.logger.info(out_str)\n",
    "        else:\n",
    "            print(out_str)"
   ]
  },
  {
   "cell_type": "code",
   "execution_count": 4,
   "metadata": {},
   "outputs": [],
   "source": [
    "import inspect\n",
    "\n",
    "def param_to_name(params: dict, key_sep='_', key_value_sep='=') -> str:\n",
    "    \"\"\"\n",
    "    dict を `key=value` で連結した string に変換します.\n",
    "    Args:\n",
    "        params:\n",
    "        key_sep:\n",
    "            key 同士を連結する際に使う文字列.\n",
    "        key_value_sep:\n",
    "            それぞれの key / value を連結するのに使う文字列.\n",
    "            `\"=\"` が指定されると例えば { 'foo': 10 } は `\"foo=10\"` に変換されます.\n",
    "    Returns:\n",
    "        文字列化した dict\n",
    "    \"\"\"\n",
    "    sorted_params = sorted(params.items())\n",
    "    return key_sep.join(map(lambda x: key_value_sep.join(map(str, x)), sorted_params))\n",
    "\n",
    "\n",
    "def cachable(function):\n",
    "    attr_name = '__cachefile__'\n",
    "    def wrapper(*args, **kwrgs):\n",
    "        force = kwrgs.pop('force', False)\n",
    "        call_args = inspect.getcallargs(function, *args, **kwrgs)\n",
    "\n",
    "        arg_name = param_to_name(call_args)\n",
    "        name = attr_name + arg_name\n",
    "\n",
    "        use_cache = hasattr(function, name) and not force\n",
    "\n",
    "        if use_cache:\n",
    "            cache_object = getattr(function, name)\n",
    "        else:\n",
    "            print('run')\n",
    "            cache_object = function(*args, **kwrgs)\n",
    "            setattr(function, name, cache_object)\n",
    "\n",
    "        return cache_object\n",
    "\n",
    "    return wrapper"
   ]
  },
  {
   "cell_type": "code",
   "execution_count": 5,
   "metadata": {},
   "outputs": [],
   "source": [
    "@cachable\n",
    "def read_csv(name):\n",
    "    if '.csv' not in name:\n",
    "        name = name + '.csv'\n",
    "        \n",
    "    return pd.read_csv(os.path.join(DATA, name))"
   ]
  },
  {
   "cell_type": "code",
   "execution_count": 6,
   "metadata": {},
   "outputs": [],
   "source": [
    "class AbstractBaseBlock:\n",
    "    def fit(self, all_df:pd.DataFrame, input_df:pd.DataFrame, y=None):\n",
    "        return self.transform(input_df)\n",
    "    \n",
    "    def transform(self, input_df:pd.DataFrame):\n",
    "        return NotImplementedError()"
   ]
  },
  {
   "cell_type": "code",
   "execution_count": 7,
   "metadata": {},
   "outputs": [],
   "source": [
    "class NumericBlock(AbstractBaseBlock):\n",
    "    def transform(self, input_df):\n",
    "        use_columns = [\n",
    "            'dating_period',\n",
    "            'dating_year_early',\n",
    "            'dating_year_late'\n",
    "        ]\n",
    "        \n",
    "        return input_df[use_columns].copy()"
   ]
  },
  {
   "cell_type": "code",
   "execution_count": 8,
   "metadata": {},
   "outputs": [],
   "source": [
    "class StringLengthBlock(AbstractBaseBlock):\n",
    "    def __init__(self, column):\n",
    "        self.column = column\n",
    "        \n",
    "    def transform(self, input_df):\n",
    "        out_df = pd.DataFrame()\n",
    "        out_df[self.column] = input_df[self.column].str.len()\n",
    "        return out_df.add_prefix('StringLength_')"
   ]
  },
  {
   "cell_type": "code",
   "execution_count": 9,
   "metadata": {},
   "outputs": [],
   "source": [
    "class CountEncodingBlock(AbstractBaseBlock):\n",
    "    def __init__(self, column: str):\n",
    "        self.column = column\n",
    "        \n",
    "    def fit(self, all_df, input_df, y=None):\n",
    "        vc = all_df[self.column].value_counts()\n",
    "        self.count_ = vc\n",
    "        return self.transform(input_df)\n",
    "    \n",
    "    def transform(self, input_df):\n",
    "        out_df = pd.DataFrame()\n",
    "        out_df[self.column] = input_df[self.column].map(self.count_)\n",
    "        return out_df.add_prefix('CE_')"
   ]
  },
  {
   "cell_type": "code",
   "execution_count": 10,
   "metadata": {},
   "outputs": [],
   "source": [
    "class OneHotEncoding(AbstractBaseBlock):\n",
    "    def __init__(self, column, min_count=30):\n",
    "        self.column = column\n",
    "        self.min_count = min_count\n",
    "        \n",
    "    def fit(self, all_df, input_df, y=None):\n",
    "        vc = all_df[self.column].value_counts()\n",
    "        self.categories = vc[vc > self.min_count].index\n",
    "        return self.transform(input_df)\n",
    "    \n",
    "    def transform(self, input_df):\n",
    "        out_df = pd.DataFrame()\n",
    "        cat = pd.Categorical(input_df[self.column], categories=self.categories)\n",
    "        out_df = pd.get_dummies(cat)\n",
    "        out_df.columns = out_df.columns.tolist()\n",
    "        return out_df.add_prefix(f'{self.column}=')"
   ]
  },
  {
   "cell_type": "code",
   "execution_count": 11,
   "metadata": {},
   "outputs": [],
   "source": [
    "def run_blocks(all_df, input_df, blocks, y=None, test=False):\n",
    "    out_df = pd.DataFrame()\n",
    "    \n",
    "    print(decorate('start run blocks...'))\n",
    "    \n",
    "    with Timer(prefix='run test={}'.format(test)):\n",
    "        for block in blocks:\n",
    "            with Timer(prefix='\\t={}'.format(str(block))):\n",
    "                if not test:\n",
    "                    out_i = block.fit(all_df, input_df, y=y)\n",
    "                else:\n",
    "                    out_i = block.transform(input_df)\n",
    "                    \n",
    "            assert len(input_df) == len(out_i), block\n",
    "            name = block.__class__.__name__\n",
    "            out_df = pd.concat([out_df, out_i.add_suffix(f'@{name}')], axis=1)\n",
    "            \n",
    "    return out_df"
   ]
  },
  {
   "cell_type": "code",
   "execution_count": 12,
   "metadata": {},
   "outputs": [],
   "source": [
    "OBJECT_ID = 'object_id'\n",
    "def left_join(left, right, on=OBJECT_ID):\n",
    "    if isinstance(left, pd.DataFrame):\n",
    "        left = left[on]\n",
    "    return pd.merge(left, right, on=on, how='left').drop(columns=[on])\n",
    "\n",
    "class HistoricalPersonBlock(AbstractBaseBlock):\n",
    "    def __init__(self, min_count=30):\n",
    "        self.min_count = min_count\n",
    "        \n",
    "    def fit(self, all_df, input_df, y=None):\n",
    "        person_df = read_csv('historical_person')\n",
    "        vc = person_df['name'].value_counts()\n",
    "        use_name = vc[vc>self.min_count].index\n",
    "        idx = person_df['name'].isin(use_name)\n",
    "        _use_df = person_df[idx].reset_index(drop=True)\n",
    "        \n",
    "        self.agg_df_ = pd.crosstab(_use_df['object_id'], _use_df['name'])\n",
    "        return self.transform(input_df)\n",
    "    \n",
    "    def transform(self, input_df):\n",
    "        out_df = left_join(input_df, self.agg_df_)\n",
    "        return out_df.add_prefix(f'HistricalPersonBlock_name')"
   ]
  },
  {
   "cell_type": "code",
   "execution_count": 13,
   "metadata": {},
   "outputs": [],
   "source": [
    "#テキスト処理で必要\n",
    "import texthero as hero\n",
    "import nltk\n",
    "from sklearn.feature_extraction.text import TfidfVectorizer\n",
    "from sklearn.decomposition import TruncatedSVD\n",
    "from sklearn.pipeline import Pipeline"
   ]
  },
  {
   "cell_type": "code",
   "execution_count": 14,
   "metadata": {},
   "outputs": [],
   "source": [
    "def text_nomalization(text):\n",
    "    \n",
    "    # 英語とオランダ語を stopword として指定\n",
    "    custom_stopwords = nltk.corpus.stopwords.words('dutch') + nltk.corpus.stopwords.words('english')\n",
    "\n",
    "    x = hero.clean(text, pipeline=[\n",
    "        hero.preprocessing.fillna,\n",
    "        hero.preprocessing.lowercase,\n",
    "        hero.preprocessing.remove_digits,\n",
    "        hero.preprocessing.remove_punctuation,\n",
    "        hero.preprocessing.remove_diacritics,\n",
    "        lambda x: hero.preprocessing.remove_stopwords(x, stopwords=custom_stopwords)\n",
    "    ])\n",
    "\n",
    "    return x\n",
    "\n",
    "class TfidfBlock(AbstractBaseBlock):\n",
    "    def __init__(self, column:str):\n",
    "        self.column = column\n",
    "        \n",
    "    def preprocess(self, input_df):\n",
    "        x = text_nomalization(input_df[self.column])\n",
    "        return x\n",
    "    \n",
    "    def get_master(self, input_df):\n",
    "        return input_df\n",
    "    \n",
    "    def fit(self, all_df, input_df, y=None):\n",
    "        master_df = self.get_master(input_df)\n",
    "        text = self.preprocess(input_df)\n",
    "        self.pipeline_ = Pipeline([\n",
    "            ('tfidf', TfidfVectorizer(max_features=10000)),\n",
    "            ('svd', TruncatedSVD(n_components=50)),\n",
    "        ])\n",
    "        \n",
    "        self.pipeline_.fit(text)\n",
    "        return self.transform(input_df)\n",
    "    \n",
    "    def transform(self, input_df):\n",
    "        text = self.preprocess(input_df)\n",
    "        z = self.pipeline_.transform(text)\n",
    "        \n",
    "        out_df = pd.DataFrame(z)\n",
    "        return out_df.add_prefix(f'{self.column}_tfidf_')"
   ]
  },
  {
   "cell_type": "code",
   "execution_count": 15,
   "metadata": {},
   "outputs": [],
   "source": [
    "import lightgbm as lgbm\n",
    "from sklearn.metrics import mean_squared_error\n",
    "from typing import Union, Optional, Iterable\n",
    "\n",
    "def fit_lgbm(X: np.ndarray, \n",
    "             y: np.ndarray, \n",
    "             cv: Iterable, \n",
    "             y_max: Optional[float] = None,\n",
    "             params: Optional[dict] = None, \n",
    "             verbose: Optional[int] =50):\n",
    "    \"\"\"lightGBM を CrossValidation の枠組みで学習を行なう function\"\"\"\n",
    "\n",
    "    # パラメータがないときは、空の dict で置き換える\n",
    "    if params is None:\n",
    "        params = {}\n",
    "    is_silent = verbose is None\n",
    "    is_cut_y = y_max is not None\n",
    "\n",
    "    models = []\n",
    "    # training data の target と同じだけのゼロ配列を用意\n",
    "    oof_pred = np.zeros_like(y, dtype=np.float)\n",
    "    for i, (idx_train, idx_valid) in enumerate(cv): \n",
    "        # この部分が交差検証のところです。データセットを cv instance によって分割します\n",
    "        # training data を trian/valid に分割\n",
    "        x_train, y_train = X[idx_train], y[idx_train]\n",
    "        x_valid, y_valid = X[idx_valid], y[idx_valid]\n",
    "\n",
    "        # 最大値が決まっている場合, 学習するデータだけ丸めを行なう\n",
    "        if is_cut_y:\n",
    "            idx_use = y_train < y_max\n",
    "            y_train = np.where(idx_use, y_train, y_max)\n",
    "        clf = lgbm.LGBMRegressor(**params)\n",
    "\n",
    "        with Timer(prefix='fit fold={} '.format(i), verbose=verbose):\n",
    "            clf.fit(x_train, y_train, \n",
    "                    eval_set=[(x_valid, y_valid)],  \n",
    "                    early_stopping_rounds=100,\n",
    "                    verbose=verbose)\n",
    "\n",
    "        pred_i = clf.predict(x_valid)\n",
    "        oof_pred[idx_valid] = pred_i\n",
    "        models.append(clf)\n",
    "\n",
    "        if not is_silent:\n",
    "            print(f'Fold {i} RMSLE: {mean_squared_error(y_valid, pred_i) ** .5:.4f}')\n",
    "\n",
    "    if not is_silent:\n",
    "        score = mean_squared_error(y, oof_pred) ** .5\n",
    "        print('Whole RMSLE: {:.4f}'.format(score))\n",
    "    return oof_pred, models\n",
    "\n",
    "params = {\n",
    "    # 目的関数. これの意味で最小となるようなパラメータを探します. \n",
    "    'objective': 'rmse', \n",
    "\n",
    "     # 学習率. 小さいほどなめらかな決定境界が作られて性能向上に繋がる場合が多いです、\n",
    "    # がそれだけ木を作るため学習に時間がかかります\n",
    "    'learning_rate': .1,\n",
    "\n",
    "    # L2 Reguralization\n",
    "    'reg_lambda': 1.,\n",
    "    # こちらは L1 \n",
    "    'reg_alpha': .1,\n",
    "\n",
    "    # 木の深さ. 深い木を許容するほどより複雑な交互作用を考慮するようになります\n",
    "    'max_depth': 5, \n",
    "\n",
    "    # 木の最大数. early_stopping という枠組みで木の数は制御されるようにしていますのでとても大きい値を指定しておきます.\n",
    "    'n_estimators': 10000, \n",
    "\n",
    "    # 木を作る際に考慮する特徴量の割合. 1以下を指定すると特徴をランダムに欠落させます。小さくすることで, まんべんなく特徴を使うという効果があります.\n",
    "    'colsample_bytree': .5, \n",
    "\n",
    "    # 最小分割でのデータ数. 小さいとより細かい粒度の分割方法を許容します.\n",
    "    'min_child_samples': 10,\n",
    "\n",
    "    # bagging の頻度と割合\n",
    "    'subsample_freq': 3,\n",
    "    'subsample': .9,\n",
    "\n",
    "    # 特徴重要度計算のロジック(後述)\n",
    "    'importance_type': 'gain', \n",
    "    'random_state': 71,\n",
    "}"
   ]
  },
  {
   "cell_type": "code",
   "execution_count": 16,
   "metadata": {},
   "outputs": [
    {
     "name": "stdout",
     "output_type": "stream",
     "text": [
      "run\n",
      "run\n"
     ]
    }
   ],
   "source": [
    "train_df = read_csv('train')\n",
    "test_df = read_csv('test')\n",
    "all_df = pd.concat([train_df, test_df], ignore_index=True)"
   ]
  },
  {
   "cell_type": "code",
   "execution_count": 37,
   "metadata": {},
   "outputs": [],
   "source": [
    "\n",
    "    # one hot encoding\n",
    "    \"\"\"\n",
    "    *[OneHotEncoding(c) for c in [\n",
    "        'title', 'description', 'long_title',\n",
    "       'principal_maker', 'principal_or_first_maker', 'sub_title',\n",
    "       'copyright_holder', 'more_title', 'acquisition_method',\n",
    "       'acquisition_date', 'acquisition_credit_line', 'dating_presenting_date',\n",
    "       'dating_sorting_date', 'dating_period', 'dating_year_early',\n",
    "       'dating_year_late',]],\n",
    "    \"\"\"\n",
    "feature_blocks = [\n",
    "    # count encoding\n",
    "    *[CountEncodingBlock(c) for c in [\n",
    "        'art_series_id', \n",
    "        'title', 'description', 'long_title',\n",
    "       'principal_maker', 'principal_or_first_maker', 'sub_title',\n",
    "       'copyright_holder', 'more_title', 'acquisition_method',\n",
    "       'acquisition_date', 'acquisition_credit_line', 'dating_presenting_date',\n",
    "       'dating_sorting_date', 'dating_period', 'dating_year_early',\n",
    "       'dating_year_late',]],\n",
    "\n",
    "    # 文字列長さ\n",
    "    *[StringLengthBlock(c) for c in [\n",
    "        'title', 'description', 'long_title',\n",
    "       'principal_maker', 'principal_or_first_maker', 'sub_title',\n",
    "    ]],\n",
    "    # historical person\n",
    "    HistoricalPersonBlock(),\n",
    "\n",
    "    # description の tfidf\n",
    "    *[TfidfBlock(c) for c in [\n",
    "        'title', 'description', 'long_title',\n",
    "       'principal_maker', 'principal_or_first_maker', 'sub_title',\n",
    "       'copyright_holder', 'more_title', \n",
    "    ]],\n",
    "]"
   ]
  },
  {
   "cell_type": "code",
   "execution_count": 38,
   "metadata": {},
   "outputs": [
    {
     "name": "stdout",
     "output_type": "stream",
     "text": [
      "★★★★★★★★★★★★★★★★★★★★ start run blocks... ★★★★★★★★★★★★★★★★★★★★\n",
      "\t=<__main__.CountEncodingBlock object at 0x7f003ec64910> 0.021[s]\n",
      "\t=<__main__.CountEncodingBlock object at 0x7f003ec64880> 0.016[s]\n",
      "\t=<__main__.CountEncodingBlock object at 0x7f003ec64970> 0.015[s]\n",
      "\t=<__main__.CountEncodingBlock object at 0x7f003ec649d0> 0.016[s]\n",
      "\t=<__main__.CountEncodingBlock object at 0x7f003ec64a30> 0.007[s]\n",
      "\t=<__main__.CountEncodingBlock object at 0x7f003ec64b50> 0.007[s]\n",
      "\t=<__main__.CountEncodingBlock object at 0x7f003ec64bb0> 0.013[s]\n",
      "\t=<__main__.CountEncodingBlock object at 0x7f003ec64c10> 0.005[s]\n",
      "\t=<__main__.CountEncodingBlock object at 0x7f003ec64ca0> 0.014[s]\n",
      "\t=<__main__.CountEncodingBlock object at 0x7f003ec64d00> 0.005[s]\n",
      "\t=<__main__.CountEncodingBlock object at 0x7f003ec64d60> 0.005[s]\n",
      "\t=<__main__.CountEncodingBlock object at 0x7f003ec64df0> 0.005[s]\n",
      "\t=<__main__.CountEncodingBlock object at 0x7f003ec64e20> 0.006[s]\n",
      "\t=<__main__.CountEncodingBlock object at 0x7f003ec64e80> 0.003[s]\n",
      "\t=<__main__.CountEncodingBlock object at 0x7f003ec64ee0> 0.002[s]\n",
      "\t=<__main__.CountEncodingBlock object at 0x7f003ec64f40> 0.003[s]\n",
      "\t=<__main__.CountEncodingBlock object at 0x7f003ec64f70> 0.003[s]\n",
      "\t=<__main__.StringLengthBlock object at 0x7f003ec64fd0> 0.005[s]\n",
      "\t=<__main__.StringLengthBlock object at 0x7f003ec648e0> 0.005[s]\n",
      "\t=<__main__.StringLengthBlock object at 0x7f00286a2070> 0.005[s]\n",
      "\t=<__main__.StringLengthBlock object at 0x7f00286a20d0> 0.005[s]\n",
      "\t=<__main__.StringLengthBlock object at 0x7f00286a2130> 0.004[s]\n",
      "\t=<__main__.StringLengthBlock object at 0x7f00286a2190> 0.005[s]\n",
      "\t=<__main__.HistoricalPersonBlock object at 0x7f003ec647c0> 0.040[s]\n"
     ]
    },
    {
     "name": "stderr",
     "output_type": "stream",
     "text": [
      "/home/sato.mizuki/anaconda3/lib/python3.8/site-packages/texthero/preprocessing.py:72: FutureWarning: The default value of regex will change from True to False in a future version.\n",
      "  return input.str.replace(pattern, symbols)\n",
      "/home/sato.mizuki/anaconda3/lib/python3.8/site-packages/texthero/preprocessing.py:131: FutureWarning: The default value of regex will change from True to False in a future version.\n",
      "  return input.str.replace(rf\"([{string.punctuation}])+\", symbol)\n",
      "/home/sato.mizuki/anaconda3/lib/python3.8/site-packages/texthero/preprocessing.py:72: FutureWarning: The default value of regex will change from True to False in a future version.\n",
      "  return input.str.replace(pattern, symbols)\n",
      "/home/sato.mizuki/anaconda3/lib/python3.8/site-packages/texthero/preprocessing.py:131: FutureWarning: The default value of regex will change from True to False in a future version.\n",
      "  return input.str.replace(rf\"([{string.punctuation}])+\", symbol)\n"
     ]
    },
    {
     "name": "stdout",
     "output_type": "stream",
     "text": [
      "\t=<__main__.TfidfBlock object at 0x7f00286a2250> 1.471[s]\n"
     ]
    },
    {
     "name": "stderr",
     "output_type": "stream",
     "text": [
      "/home/sato.mizuki/anaconda3/lib/python3.8/site-packages/texthero/preprocessing.py:72: FutureWarning: The default value of regex will change from True to False in a future version.\n",
      "  return input.str.replace(pattern, symbols)\n",
      "/home/sato.mizuki/anaconda3/lib/python3.8/site-packages/texthero/preprocessing.py:131: FutureWarning: The default value of regex will change from True to False in a future version.\n",
      "  return input.str.replace(rf\"([{string.punctuation}])+\", symbol)\n",
      "/home/sato.mizuki/anaconda3/lib/python3.8/site-packages/texthero/preprocessing.py:72: FutureWarning: The default value of regex will change from True to False in a future version.\n",
      "  return input.str.replace(pattern, symbols)\n",
      "/home/sato.mizuki/anaconda3/lib/python3.8/site-packages/texthero/preprocessing.py:131: FutureWarning: The default value of regex will change from True to False in a future version.\n",
      "  return input.str.replace(rf\"([{string.punctuation}])+\", symbol)\n"
     ]
    },
    {
     "name": "stdout",
     "output_type": "stream",
     "text": [
      "\t=<__main__.TfidfBlock object at 0x7f00286a22b0> 4.084[s]\n"
     ]
    },
    {
     "name": "stderr",
     "output_type": "stream",
     "text": [
      "/home/sato.mizuki/anaconda3/lib/python3.8/site-packages/texthero/preprocessing.py:72: FutureWarning: The default value of regex will change from True to False in a future version.\n",
      "  return input.str.replace(pattern, symbols)\n",
      "/home/sato.mizuki/anaconda3/lib/python3.8/site-packages/texthero/preprocessing.py:131: FutureWarning: The default value of regex will change from True to False in a future version.\n",
      "  return input.str.replace(rf\"([{string.punctuation}])+\", symbol)\n",
      "/home/sato.mizuki/anaconda3/lib/python3.8/site-packages/texthero/preprocessing.py:72: FutureWarning: The default value of regex will change from True to False in a future version.\n",
      "  return input.str.replace(pattern, symbols)\n",
      "/home/sato.mizuki/anaconda3/lib/python3.8/site-packages/texthero/preprocessing.py:131: FutureWarning: The default value of regex will change from True to False in a future version.\n",
      "  return input.str.replace(rf\"([{string.punctuation}])+\", symbol)\n"
     ]
    },
    {
     "name": "stdout",
     "output_type": "stream",
     "text": [
      "\t=<__main__.TfidfBlock object at 0x7f00286a2310> 2.247[s]\n"
     ]
    },
    {
     "name": "stderr",
     "output_type": "stream",
     "text": [
      "/home/sato.mizuki/anaconda3/lib/python3.8/site-packages/texthero/preprocessing.py:72: FutureWarning: The default value of regex will change from True to False in a future version.\n",
      "  return input.str.replace(pattern, symbols)\n",
      "/home/sato.mizuki/anaconda3/lib/python3.8/site-packages/texthero/preprocessing.py:131: FutureWarning: The default value of regex will change from True to False in a future version.\n",
      "  return input.str.replace(rf\"([{string.punctuation}])+\", symbol)\n",
      "/home/sato.mizuki/anaconda3/lib/python3.8/site-packages/texthero/preprocessing.py:72: FutureWarning: The default value of regex will change from True to False in a future version.\n",
      "  return input.str.replace(pattern, symbols)\n",
      "/home/sato.mizuki/anaconda3/lib/python3.8/site-packages/texthero/preprocessing.py:131: FutureWarning: The default value of regex will change from True to False in a future version.\n",
      "  return input.str.replace(rf\"([{string.punctuation}])+\", symbol)\n"
     ]
    },
    {
     "name": "stdout",
     "output_type": "stream",
     "text": [
      "\t=<__main__.TfidfBlock object at 0x7f00286a2370> 0.752[s]\n"
     ]
    },
    {
     "name": "stderr",
     "output_type": "stream",
     "text": [
      "/home/sato.mizuki/anaconda3/lib/python3.8/site-packages/texthero/preprocessing.py:72: FutureWarning: The default value of regex will change from True to False in a future version.\n",
      "  return input.str.replace(pattern, symbols)\n",
      "/home/sato.mizuki/anaconda3/lib/python3.8/site-packages/texthero/preprocessing.py:131: FutureWarning: The default value of regex will change from True to False in a future version.\n",
      "  return input.str.replace(rf\"([{string.punctuation}])+\", symbol)\n",
      "/home/sato.mizuki/anaconda3/lib/python3.8/site-packages/texthero/preprocessing.py:72: FutureWarning: The default value of regex will change from True to False in a future version.\n",
      "  return input.str.replace(pattern, symbols)\n",
      "/home/sato.mizuki/anaconda3/lib/python3.8/site-packages/texthero/preprocessing.py:131: FutureWarning: The default value of regex will change from True to False in a future version.\n",
      "  return input.str.replace(rf\"([{string.punctuation}])+\", symbol)\n"
     ]
    },
    {
     "name": "stdout",
     "output_type": "stream",
     "text": [
      "\t=<__main__.TfidfBlock object at 0x7f00286a23d0> 0.764[s]\n"
     ]
    },
    {
     "name": "stderr",
     "output_type": "stream",
     "text": [
      "/home/sato.mizuki/anaconda3/lib/python3.8/site-packages/texthero/preprocessing.py:72: FutureWarning: The default value of regex will change from True to False in a future version.\n",
      "  return input.str.replace(pattern, symbols)\n",
      "/home/sato.mizuki/anaconda3/lib/python3.8/site-packages/texthero/preprocessing.py:131: FutureWarning: The default value of regex will change from True to False in a future version.\n",
      "  return input.str.replace(rf\"([{string.punctuation}])+\", symbol)\n",
      "/home/sato.mizuki/anaconda3/lib/python3.8/site-packages/texthero/preprocessing.py:72: FutureWarning: The default value of regex will change from True to False in a future version.\n",
      "  return input.str.replace(pattern, symbols)\n",
      "/home/sato.mizuki/anaconda3/lib/python3.8/site-packages/texthero/preprocessing.py:131: FutureWarning: The default value of regex will change from True to False in a future version.\n",
      "  return input.str.replace(rf\"([{string.punctuation}])+\", symbol)\n"
     ]
    },
    {
     "name": "stdout",
     "output_type": "stream",
     "text": [
      "\t=<__main__.TfidfBlock object at 0x7f00286a2430> 1.295[s]\n"
     ]
    },
    {
     "name": "stderr",
     "output_type": "stream",
     "text": [
      "/home/sato.mizuki/anaconda3/lib/python3.8/site-packages/texthero/preprocessing.py:72: FutureWarning: The default value of regex will change from True to False in a future version.\n",
      "  return input.str.replace(pattern, symbols)\n",
      "/home/sato.mizuki/anaconda3/lib/python3.8/site-packages/texthero/preprocessing.py:131: FutureWarning: The default value of regex will change from True to False in a future version.\n",
      "  return input.str.replace(rf\"([{string.punctuation}])+\", symbol)\n",
      "/home/sato.mizuki/anaconda3/lib/python3.8/site-packages/texthero/preprocessing.py:72: FutureWarning: The default value of regex will change from True to False in a future version.\n",
      "  return input.str.replace(pattern, symbols)\n",
      "/home/sato.mizuki/anaconda3/lib/python3.8/site-packages/texthero/preprocessing.py:131: FutureWarning: The default value of regex will change from True to False in a future version.\n",
      "  return input.str.replace(rf\"([{string.punctuation}])+\", symbol)\n"
     ]
    },
    {
     "name": "stdout",
     "output_type": "stream",
     "text": [
      "\t=<__main__.TfidfBlock object at 0x7f00286a2490> 0.402[s]\n"
     ]
    },
    {
     "name": "stderr",
     "output_type": "stream",
     "text": [
      "/home/sato.mizuki/anaconda3/lib/python3.8/site-packages/texthero/preprocessing.py:72: FutureWarning: The default value of regex will change from True to False in a future version.\n",
      "  return input.str.replace(pattern, symbols)\n",
      "/home/sato.mizuki/anaconda3/lib/python3.8/site-packages/texthero/preprocessing.py:131: FutureWarning: The default value of regex will change from True to False in a future version.\n",
      "  return input.str.replace(rf\"([{string.punctuation}])+\", symbol)\n",
      "/home/sato.mizuki/anaconda3/lib/python3.8/site-packages/texthero/preprocessing.py:72: FutureWarning: The default value of regex will change from True to False in a future version.\n",
      "  return input.str.replace(pattern, symbols)\n",
      "/home/sato.mizuki/anaconda3/lib/python3.8/site-packages/texthero/preprocessing.py:131: FutureWarning: The default value of regex will change from True to False in a future version.\n",
      "  return input.str.replace(rf\"([{string.punctuation}])+\", symbol)\n"
     ]
    },
    {
     "name": "stdout",
     "output_type": "stream",
     "text": [
      "\t=<__main__.TfidfBlock object at 0x7f00286a24f0> 2.140[s]\n",
      "run test=False 13.582[s]\n"
     ]
    }
   ],
   "source": [
    "train_feat_df = run_blocks(all_df, train_df, blocks=feature_blocks, test=False)"
   ]
  },
  {
   "cell_type": "code",
   "execution_count": 39,
   "metadata": {},
   "outputs": [
    {
     "name": "stdout",
     "output_type": "stream",
     "text": [
      "★★★★★★★★★★★★★★★★★★★★ start training ★★★★★★★★★★★★★★★★★★★★\n",
      "[LightGBM] [Warning] Accuracy may be bad since you didn't explicitly set num_leaves OR 2^max_depth > num_leaves. (num_leaves=31).\n",
      "Training until validation scores don't improve for 100 rounds\n",
      "Early stopping, best iteration is:\n",
      "[204]\tvalid_0's rmse: 1.06627\n",
      "fit fold=0  1.076[s]\n",
      "Fold 0 RMSLE: 1.0663\n",
      "[LightGBM] [Warning] Accuracy may be bad since you didn't explicitly set num_leaves OR 2^max_depth > num_leaves. (num_leaves=31).\n",
      "Training until validation scores don't improve for 100 rounds\n",
      "Early stopping, best iteration is:\n",
      "[284]\tvalid_0's rmse: 1.06191\n",
      "fit fold=1  1.429[s]\n",
      "Fold 1 RMSLE: 1.0619\n",
      "[LightGBM] [Warning] Accuracy may be bad since you didn't explicitly set num_leaves OR 2^max_depth > num_leaves. (num_leaves=31).\n",
      "Training until validation scores don't improve for 100 rounds\n",
      "Early stopping, best iteration is:\n",
      "[318]\tvalid_0's rmse: 1.0509\n",
      "fit fold=2  1.302[s]\n",
      "Fold 2 RMSLE: 1.0509\n",
      "[LightGBM] [Warning] Accuracy may be bad since you didn't explicitly set num_leaves OR 2^max_depth > num_leaves. (num_leaves=31).\n",
      "Training until validation scores don't improve for 100 rounds\n",
      "Early stopping, best iteration is:\n",
      "[393]\tvalid_0's rmse: 1.06943\n",
      "fit fold=3  1.535[s]\n",
      "Fold 3 RMSLE: 1.0694\n",
      "[LightGBM] [Warning] Accuracy may be bad since you didn't explicitly set num_leaves OR 2^max_depth > num_leaves. (num_leaves=31).\n",
      "Training until validation scores don't improve for 100 rounds\n",
      "Early stopping, best iteration is:\n",
      "[277]\tvalid_0's rmse: 1.03681\n",
      "fit fold=4  1.319[s]\n",
      "Fold 4 RMSLE: 1.0368\n",
      "Whole RMSLE: 1.0571\n",
      "★★★★★★★★★★★★★★★★★★★★ FINISHED ★★★★★★★★★★★★★★★★★★★★\n"
     ]
    }
   ],
   "source": [
    "#ligthgbm \n",
    "y = train_df['likes'].values\n",
    "y = np.log1p(y)\n",
    "from sklearn.model_selection import KFold\n",
    "\n",
    "fold = KFold(n_splits=5, shuffle=True, random_state=71)\n",
    "cv = list(fold.split(train_feat_df, y)) # もともとが generator なため明示的に list に変換する\n",
    "\n",
    "print(decorate('start training'))\n",
    "oof, models = fit_lgbm(train_feat_df.values, y, cv, params=params, verbose=500)\n",
    "print(decorate('FINISHED'))"
   ]
  },
  {
   "cell_type": "code",
   "execution_count": 40,
   "metadata": {},
   "outputs": [
    {
     "data": {
      "image/png": "[encoded data removed]",
      "text/plain": [
       "<Figure size 576x900 with 1 Axes>"
      ]
     },
     "metadata": {
      "needs_background": "light"
     },
     "output_type": "display_data"
    }
   ],
   "source": [
    "def visualize_importance(models, feat_train_df):\n",
    "    \"\"\"lightGBM の model 配列の feature importance を plot する\n",
    "    CVごとのブレを boxen plot として表現します.\n",
    "\n",
    "    args:\n",
    "        models:\n",
    "            List of lightGBM models\n",
    "        feat_train_df:\n",
    "            学習時に使った DataFrame\n",
    "    \"\"\"\n",
    "    feature_importance_df = pd.DataFrame()\n",
    "    for i, model in enumerate(models):\n",
    "        _df = pd.DataFrame()\n",
    "        _df['feature_importance'] = model.feature_importances_\n",
    "        _df['column'] = feat_train_df.columns\n",
    "        _df['fold'] = i + 1\n",
    "        feature_importance_df = pd.concat([feature_importance_df, _df], \n",
    "                                          axis=0, ignore_index=True)\n",
    "\n",
    "    order = feature_importance_df.groupby('column')\\\n",
    "        .sum()[['feature_importance']]\\\n",
    "        .sort_values('feature_importance', ascending=False).index[:50]\n",
    "\n",
    "    fig, ax = plt.subplots(figsize=(8, max(6, len(order) * .25)))\n",
    "    sns.boxenplot(data=feature_importance_df, \n",
    "                  x='feature_importance', \n",
    "                  y='column', \n",
    "                  order=order, \n",
    "                  ax=ax, \n",
    "                  palette='viridis', \n",
    "                  orient='h')\n",
    "    ax.tick_params(axis='x', rotation=90)\n",
    "    ax.set_title('Importance')\n",
    "    ax.grid()\n",
    "    fig.tight_layout()\n",
    "    return fig, ax\n",
    "\n",
    "fig, ax = visualize_importance(models, train_feat_df)"
   ]
  },
  {
   "cell_type": "code",
   "execution_count": 41,
   "metadata": {},
   "outputs": [
    {
     "name": "stdout",
     "output_type": "stream",
     "text": [
      "★★★★★★★★★★★★★★★★★★★★ start run blocks... ★★★★★★★★★★★★★★★★★★★★\n",
      "\t=<__main__.CountEncodingBlock object at 0x7f003ec64910> 0.010[s]\n",
      "\t=<__main__.CountEncodingBlock object at 0x7f003ec64880> 0.007[s]\n",
      "\t=<__main__.CountEncodingBlock object at 0x7f003ec64970> 0.006[s]\n",
      "\t=<__main__.CountEncodingBlock object at 0x7f003ec649d0> 0.005[s]\n",
      "\t=<__main__.CountEncodingBlock object at 0x7f003ec64a30> 0.004[s]\n",
      "\t=<__main__.CountEncodingBlock object at 0x7f003ec64b50> 0.004[s]\n",
      "\t=<__main__.CountEncodingBlock object at 0x7f003ec64bb0> 0.005[s]\n",
      "\t=<__main__.CountEncodingBlock object at 0x7f003ec64c10> 0.003[s]\n",
      "\t=<__main__.CountEncodingBlock object at 0x7f003ec64ca0> 0.005[s]\n",
      "\t=<__main__.CountEncodingBlock object at 0x7f003ec64d00> 0.003[s]\n",
      "\t=<__main__.CountEncodingBlock object at 0x7f003ec64d60> 0.003[s]\n",
      "\t=<__main__.CountEncodingBlock object at 0x7f003ec64df0> 0.004[s]\n",
      "\t=<__main__.CountEncodingBlock object at 0x7f003ec64e20> 0.004[s]\n",
      "\t=<__main__.CountEncodingBlock object at 0x7f003ec64e80> 0.002[s]\n",
      "\t=<__main__.CountEncodingBlock object at 0x7f003ec64ee0> 0.002[s]\n",
      "\t=<__main__.CountEncodingBlock object at 0x7f003ec64f40> 0.002[s]\n",
      "\t=<__main__.CountEncodingBlock object at 0x7f003ec64f70> 0.002[s]\n",
      "\t=<__main__.StringLengthBlock object at 0x7f003ec64fd0> 0.006[s]\n",
      "\t=<__main__.StringLengthBlock object at 0x7f003ec648e0> 0.007[s]\n",
      "\t=<__main__.StringLengthBlock object at 0x7f00286a2070> 0.006[s]\n",
      "\t=<__main__.StringLengthBlock object at 0x7f00286a20d0> 0.006[s]\n",
      "\t=<__main__.StringLengthBlock object at 0x7f00286a2130> 0.006[s]\n",
      "\t=<__main__.StringLengthBlock object at 0x7f00286a2190> 0.006[s]\n",
      "\t=<__main__.HistoricalPersonBlock object at 0x7f003ec647c0> 0.010[s]\n"
     ]
    },
    {
     "name": "stderr",
     "output_type": "stream",
     "text": [
      "/home/sato.mizuki/anaconda3/lib/python3.8/site-packages/texthero/preprocessing.py:72: FutureWarning: The default value of regex will change from True to False in a future version.\n",
      "  return input.str.replace(pattern, symbols)\n",
      "/home/sato.mizuki/anaconda3/lib/python3.8/site-packages/texthero/preprocessing.py:131: FutureWarning: The default value of regex will change from True to False in a future version.\n",
      "  return input.str.replace(rf\"([{string.punctuation}])+\", symbol)\n"
     ]
    },
    {
     "name": "stdout",
     "output_type": "stream",
     "text": [
      "\t=<__main__.TfidfBlock object at 0x7f00286a2250> 0.672[s]\n"
     ]
    },
    {
     "name": "stderr",
     "output_type": "stream",
     "text": [
      "/home/sato.mizuki/anaconda3/lib/python3.8/site-packages/texthero/preprocessing.py:72: FutureWarning: The default value of regex will change from True to False in a future version.\n",
      "  return input.str.replace(pattern, symbols)\n",
      "/home/sato.mizuki/anaconda3/lib/python3.8/site-packages/texthero/preprocessing.py:131: FutureWarning: The default value of regex will change from True to False in a future version.\n",
      "  return input.str.replace(rf\"([{string.punctuation}])+\", symbol)\n"
     ]
    },
    {
     "name": "stdout",
     "output_type": "stream",
     "text": [
      "\t=<__main__.TfidfBlock object at 0x7f00286a22b0> 1.886[s]\n"
     ]
    },
    {
     "name": "stderr",
     "output_type": "stream",
     "text": [
      "/home/sato.mizuki/anaconda3/lib/python3.8/site-packages/texthero/preprocessing.py:72: FutureWarning: The default value of regex will change from True to False in a future version.\n",
      "  return input.str.replace(pattern, symbols)\n",
      "/home/sato.mizuki/anaconda3/lib/python3.8/site-packages/texthero/preprocessing.py:131: FutureWarning: The default value of regex will change from True to False in a future version.\n",
      "  return input.str.replace(rf\"([{string.punctuation}])+\", symbol)\n"
     ]
    },
    {
     "name": "stdout",
     "output_type": "stream",
     "text": [
      "\t=<__main__.TfidfBlock object at 0x7f00286a2310> 1.011[s]\n"
     ]
    },
    {
     "name": "stderr",
     "output_type": "stream",
     "text": [
      "/home/sato.mizuki/anaconda3/lib/python3.8/site-packages/texthero/preprocessing.py:72: FutureWarning: The default value of regex will change from True to False in a future version.\n",
      "  return input.str.replace(pattern, symbols)\n",
      "/home/sato.mizuki/anaconda3/lib/python3.8/site-packages/texthero/preprocessing.py:131: FutureWarning: The default value of regex will change from True to False in a future version.\n",
      "  return input.str.replace(rf\"([{string.punctuation}])+\", symbol)\n"
     ]
    },
    {
     "name": "stdout",
     "output_type": "stream",
     "text": [
      "\t=<__main__.TfidfBlock object at 0x7f00286a2370> 0.301[s]\n"
     ]
    },
    {
     "name": "stderr",
     "output_type": "stream",
     "text": [
      "/home/sato.mizuki/anaconda3/lib/python3.8/site-packages/texthero/preprocessing.py:72: FutureWarning: The default value of regex will change from True to False in a future version.\n",
      "  return input.str.replace(pattern, symbols)\n",
      "/home/sato.mizuki/anaconda3/lib/python3.8/site-packages/texthero/preprocessing.py:131: FutureWarning: The default value of regex will change from True to False in a future version.\n",
      "  return input.str.replace(rf\"([{string.punctuation}])+\", symbol)\n"
     ]
    },
    {
     "name": "stdout",
     "output_type": "stream",
     "text": [
      "\t=<__main__.TfidfBlock object at 0x7f00286a23d0> 0.305[s]\n"
     ]
    },
    {
     "name": "stderr",
     "output_type": "stream",
     "text": [
      "/home/sato.mizuki/anaconda3/lib/python3.8/site-packages/texthero/preprocessing.py:72: FutureWarning: The default value of regex will change from True to False in a future version.\n",
      "  return input.str.replace(pattern, symbols)\n",
      "/home/sato.mizuki/anaconda3/lib/python3.8/site-packages/texthero/preprocessing.py:131: FutureWarning: The default value of regex will change from True to False in a future version.\n",
      "  return input.str.replace(rf\"([{string.punctuation}])+\", symbol)\n"
     ]
    },
    {
     "name": "stdout",
     "output_type": "stream",
     "text": [
      "\t=<__main__.TfidfBlock object at 0x7f00286a2430> 0.599[s]\n",
      "\t=<__main__.TfidfBlock object at 0x7f00286a2490> 0.117[s]\n"
     ]
    },
    {
     "name": "stderr",
     "output_type": "stream",
     "text": [
      "/home/sato.mizuki/anaconda3/lib/python3.8/site-packages/texthero/preprocessing.py:72: FutureWarning: The default value of regex will change from True to False in a future version.\n",
      "  return input.str.replace(pattern, symbols)\n",
      "/home/sato.mizuki/anaconda3/lib/python3.8/site-packages/texthero/preprocessing.py:131: FutureWarning: The default value of regex will change from True to False in a future version.\n",
      "  return input.str.replace(rf\"([{string.punctuation}])+\", symbol)\n",
      "/home/sato.mizuki/anaconda3/lib/python3.8/site-packages/texthero/preprocessing.py:72: FutureWarning: The default value of regex will change from True to False in a future version.\n",
      "  return input.str.replace(pattern, symbols)\n",
      "/home/sato.mizuki/anaconda3/lib/python3.8/site-packages/texthero/preprocessing.py:131: FutureWarning: The default value of regex will change from True to False in a future version.\n",
      "  return input.str.replace(rf\"([{string.punctuation}])+\", symbol)\n"
     ]
    },
    {
     "name": "stdout",
     "output_type": "stream",
     "text": [
      "\t=<__main__.TfidfBlock object at 0x7f00286a24f0> 0.960[s]\n",
      "run test=True 6.186[s]\n"
     ]
    }
   ],
   "source": [
    "test_feat_df = run_blocks(all_df, input_df=test_df, blocks=feature_blocks, test=True)"
   ]
  },
  {
   "cell_type": "code",
   "execution_count": 42,
   "metadata": {},
   "outputs": [],
   "source": [
    "def revert_to_real(y_log):\n",
    "    _pred = np.expm1(y_log)\n",
    "    _pred = np.where(_pred < 0, 0, _pred)\n",
    "    return _pred\n",
    "\n",
    "pred = np.array([model.predict(test_feat_df.values) for model in models])\n",
    "pred = np.mean(pred, axis=0)\n",
    "pred = revert_to_real(pred)\n",
    "sub_df = pd.DataFrame({ 'likes': pred })\n",
    "sub_df.to_csv(os.path.join(OUT_PUT, '03__submission_2.csv'), index=False)"
   ]
  },
  {
   "cell_type": "code",
   "execution_count": null,
   "metadata": {},
   "outputs": [],
   "source": []
  }
 ],
 "metadata": {
  "kernelspec": {
   "display_name": "Python 3",
   "language": "python",
   "name": "python3"
  },
  "language_info": {
   "codemirror_mode": {
    "name": "ipython",
    "version": 3
   },
   "file_extension": ".py",
   "mimetype": "text/x-python",
   "name": "python",
   "nbconvert_exporter": "python",
   "pygments_lexer": "ipython3",
   "version": "3.8.3"
  }
 },
 "nbformat": 4,
 "nbformat_minor": 4
}
